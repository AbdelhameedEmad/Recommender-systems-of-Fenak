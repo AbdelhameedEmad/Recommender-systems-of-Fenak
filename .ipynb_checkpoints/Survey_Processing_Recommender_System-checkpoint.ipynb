{
 "cells": [
  {
   "cell_type": "code",
   "execution_count": 3,
   "metadata": {
    "scrolled": true
   },
   "outputs": [
    {
     "name": "stdout",
     "output_type": "stream",
     "text": [
      "Number of businesses in will be used in the recommendation: 8728\n",
      "\"Panini Italian Sandwiches\"\n",
      "Number of businesses used after removing all the businesses less than 3 stars: 5869\n"
     ]
    }
   ],
   "source": [
    "import pandas as pd\n",
    "from rake_nltk import Rake\n",
    "import numpy as np\n",
    "from sklearn.metrics.pairwise import cosine_similarity\n",
    "from sklearn.feature_extraction.text import CountVectorizer\n",
    "\n",
    "#finding the first location that contains the inputed tag\n",
    "\n",
    "df = pd.read_csv(\"yelp_business.csv\")\n",
    "data = df[[\"business_id\", \"name\", \"city\", \"categories\",\"stars\"]]\n",
    "data = data.fillna(\"Giza\")\n",
    "data = data.sample(frac=0.05, replace=True)\n",
    "wanted_business = data.iloc[0]\n",
    "print('Number of businesses in will be used in the recommendation:',len(data))\n",
    "data = data[data['stars'] > 3]\n",
    "#3 in data.iloc[0,3] is the number of the column of categories\n",
    "r = data.iloc[0,3]\n",
    "if r.find('Restaurant') != -1:\n",
    "    wanted_business = data.iloc[0]\n",
    "    print (wanted_business['name'])\n",
    "else:\n",
    "    i = 1\n",
    "    while i < data.size:\n",
    "        r = data.iloc[i,3]\n",
    "        if r.find('Restaurant') != -1:\n",
    "            wanted_business = data.iloc[i]\n",
    "            print (wanted_business['name'])\n",
    "            break\n",
    "        if i == data.size - 1:\n",
    "            print ('N/a')\n",
    "        i += 1\n",
    "#After removing all the businesses less than 3 stars\n",
    "print('Number of businesses used after removing all the businesses less than 3 stars:', len(data))"
   ]
  },
  {
   "cell_type": "code",
   "execution_count": 4,
   "metadata": {},
   "outputs": [
    {
     "name": "stdout",
     "output_type": "stream",
     "text": [
      "['\"Dave\\'s Cosmic Subs\"', '\"Dagwoods\"', '\"The Baguette Company\"', '\"Cheese Steak Place\"', '\"Sugarhouse Sandwiches\"', '\"Jimmy John\\'s\"', '\"Hanks Sandwich Bar\"', '\"Uncle Sam\\'s Submarines\"', '\"Sacks Sandwiches - ASU\"', '\"Subs-N-Such\"', '\"Spicy Pickle\"', '\"Dagwoods Sandwichs Et Salades\"', '\"Black Camel\"', '\"Capriotti\\'s Sandwich Shop\"', '\"Panini Italian Sandwiches\"', '\"Mackay Pizza & Subs\"', '\"Holy Smokez BBQ Sandwiches\"', '\"Hungry Howie\\'s Pizza\"', '\"Fredos Deli\"', '\"Restaurant Quebec Delicatessen\"', '\"Capriotti\\'s Sandwich Shop\"', '\"Hungry Howie\\'s Pizza\"', '\"Old School Italian Sandwich Shop\"', '\"Centrale Bergham\"', '\"Alto Restaurant\"', '\"Johnny McGuire\\'s Deli\"', '\"Port of Subs\"', '\"Terra Cafe\"', '\"Little Polish Market\"', '\"ASAP City\"', '\"Café Titanic\"', '\"City Market Deli\"', '\"Parmigiana Sandwiches\"', '\"Vincent\\'s Pizza Park\"', '\"KISS Back East Pizza and Beef Joint\"', '\"Rosati\\'s Pizza\"', '\"San Francesco Foods\"', '\"Breakfast, Brunch & Lunch\"', '\"Subway\"', '\"The Sandwich Spot\"', '\"Subway\"', '\"The Upper Crust Pizza\"', '\"Sugarbakers Cafe & Bakery\"', '\"Subway\"', '\"Restaurant Ezo Daou\"', '\"Zoup!\"', '\"Tryon House Restaurant\"', '\"Subway\"', '\"Subway\"', '\"Vincent\\'s\"', '\"Pâtisserie Belge\"', '\"Dish\"', '\"City Bakery\"', '\"Subway\"', '\"Pueblo Viejo\"', '\"Resto Nouveau Systeme\"', '\"Subway\"', '\"Capriotti\\'s Sandwich Shop\"', '\"Mr Sub\"', '\"Libby\\'s Pit Stop\"', '\"ASAP City\"', '\"Subway\"', '\"Barro\\'s Pizza\"', '\"American Heroes and Dogs\"', '\"Bistro Pizza\"', '\"Stroll Inn\"', '\"Simonetti\\'s Pizza\"', '\"Chicago Joe\\'s\"', '\"Full House Pizza\"', '\"Pannizza\"', '\"Conviction\"', '\"Arby\\'s\"', '\"Capriotti\\'s Sandwich Shop\"', '\"DiBella\\'s Subs\"', '\"Lunch Box Deli\"', '\"Shore Deli Co.\"', '\"Huron Square Deli\"', '\"Familia Pizzeria\"', '\"DiBella\\'s Subs\"', '\"Rockefeller\\'s Grille\"', '\"Subway\"', '\"San Francesco Foods\"', '\"Firehouse Subs\"', '\"Jolta Java\"', '\"Pavilion Cafe\"', '\"Cafe Bon Appetit\"', '\"Firehouse Subs\"', '\"Pizza Amier\"', '\"Big Shot Bob\\'s House of Wings - South Side\"', '\"Tea Tree Tea\"', '\"Jersey Mike\\'s Subs\"', '\"Jersey Mike\\'s Subs\"', '\"Jersey Mike\\'s Subs\"', '\"Red Robin Gourmet Burgers\"', '\"Coffee Public\"', '\"Angelo\\'s Pizzeria & Restaurant\"', '\"Newks Eatery\"', '\"Domino\\'s Pizza\"', '\"Firehouse Subs\"']\n"
     ]
    }
   ],
   "source": [
    "#top 100 recommended locations similar to the inputed location\n",
    "#needs the indexing to be names (data = data.set_index('name'))\n",
    "data = data.set_index('name')\n",
    "count = CountVectorizer()\n",
    "count_matrix = count.fit_transform(data['categories'])\n",
    "cosine_sim = cosine_similarity(count_matrix, count_matrix)\n",
    "indices = pd.Series(data.index)\n",
    "recommended_places = []\n",
    "idx = indices[indices == '\"Panini Italian Sandwiches\"'].index[0]\n",
    "score_series = pd.Series(cosine_sim[idx]).sort_values(ascending=False)\n",
    "top_100_indexes = list(score_series.iloc[1:100].index)\n",
    "for i in top_100_indexes:\n",
    "    recommended_places.append(list(data.index)[i])\n",
    "print(recommended_places)"
   ]
  },
  {
   "cell_type": "code",
   "execution_count": null,
   "metadata": {},
   "outputs": [],
   "source": []
  }
 ],
 "metadata": {
  "kernelspec": {
   "display_name": "Python 3",
   "language": "python",
   "name": "python3"
  },
  "language_info": {
   "codemirror_mode": {
    "name": "ipython",
    "version": 3
   },
   "file_extension": ".py",
   "mimetype": "text/x-python",
   "name": "python",
   "nbconvert_exporter": "python",
   "pygments_lexer": "ipython3",
   "version": "3.7.0"
  }
 },
 "nbformat": 4,
 "nbformat_minor": 2
}
