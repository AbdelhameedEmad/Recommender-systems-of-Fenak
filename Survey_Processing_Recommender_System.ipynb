{
 "cells": [
  {
   "cell_type": "code",
   "execution_count": 1,
   "metadata": {
    "scrolled": true
   },
   "outputs": [
    {
     "name": "stdout",
     "output_type": "stream",
     "text": [
      "\"Subway\"\n"
     ]
    }
   ],
   "source": [
    "import pandas as pd\n",
    "from rake_nltk import Rake\n",
    "import numpy as np\n",
    "from sklearn.metrics.pairwise import cosine_similarity\n",
    "from sklearn.feature_extraction.text import CountVectorizer\n",
    "\n",
    "#finding the first location that contains the inputed tag\n",
    "\n",
    "df = pd.read_csv(\"yelp_business.csv\")\n",
    "data = df[[\"business_id\", \"name\", \"city\", \"categories\",\"stars\"]]\n",
    "data = data.fillna(\"Giza\")\n",
    "data = data.sample(frac=0.05, replace=True)\n",
    "wanted_business = data.iloc[0]\n",
    "print(len(data))\n",
    "data = data[data['stars'] > 3]\n",
    "#3 in data.iloc[0,3] is the number of the column of categories\n",
    "r = data.iloc[0,3]\n",
    "if r.find('Restaurant') != -1:\n",
    "    wanted_business = data.iloc[0]\n",
    "    print (wanted_business['name'])\n",
    "else:\n",
    "    i = 1\n",
    "    while i < data.size:\n",
    "        r = data.iloc[i,3]\n",
    "        if r.find('Restaurant') != -1:\n",
    "            wanted_business = data.iloc[i]\n",
    "            print (wanted_business['name'])\n",
    "            break\n",
    "        if i == data.size - 1:\n",
    "            print ('N/a')\n",
    "        i += 1\n",
    "#After removing all the businesses less than 3 stars\n",
    "print(len(data))"
   ]
  },
  {
   "cell_type": "code",
   "execution_count": 2,
   "metadata": {},
   "outputs": [
    {
     "name": "stdout",
     "output_type": "stream",
     "text": [
      "['\"Subway\"', '\"Subway\"', '\"Subway\"', '\"Subway\"', '\"Subway\"', '\"Subway\"', '\"Subway\"', '\"Tammie Coe To Go\"', '\"Subway\"', '\"Subway\"', '\"Subway\"', '\"Subway\"', '\"Subway\"', '\"Jimmy John\\'s\"', '\"Arby\\'s\"', '\"Subway\"', '\"Subway\"', '\"Firehouse Subs\"', '\"Pita Pit\"', '\"Jersey Mike\\'s Subs\"', '\"Subway\"', '\"Pita Pit\"', '\"Jack in the Box\"', '\"Take It Away Spud\"', '\"Bojangles\\' Famous Chicken \\'n Biscuits\"', '\"Jack in the Box\"', '\"New York Chicken\"', '\"Jack In the Box\"', '\"Jack-In-the Box Drive Thru\"', '\"Chicken King\"', '\"Jack In the Box\"', '\"Bojangles\\' Famous Chicken \\'n Biscuits\"', '\"Frite Alors\"', '\"KFC\"', '\"Jack-In-the Box Drive Thru\"', '\"Le Roi D\\'ontario\"', '\"Ola Kala\"', '\"Hardee\\'s\"', '\"McDonald\\'s\"', '\"Firehouse Subs\"', '\"Greggs\"', '\"Fish & Fixin\\'s\"', '\"McDonald\\'s\"', '\"Don Tortaco\"', '\"Mei Dow\"', '\"McDonald\\'s\"', '\"McDonald\\'s\"', '\"Carl\\'s Jr.\"', '\"Chipotle Mexican Grill\"', '\"McDonald\\'s\"', '\"Taco Bell\"', '\"Wendy\\'s\"', '\"Little Tokyo\"', '\"Panda Express\"', '\"Blue Willo Cafe\"', '\"Wendy\\'s\"', '\"Burrito Boyz\"', '\"Chipotle Mexican Grill\"', '\"Five Guys\"', '\"In-N-Out Burger\"', '\"Mcdonald\\'s\"', '\"Jack in the Box\"', '\"Pomme Frite\"', '\"holdi\"', '\"McDonald\\'s\"', '\"Five Guys\"', '\"McDonald\\'s\"', '\"Panda Express\"', '\"Roberto\\'s Taco Shop\"', '\"Sonic Drive-In\"', '\"Pizza Bazaar\"', '\"Five Guys\"', '\"McDonald\\'s\"', '\"Wendy\\'s\"', '\"Bánh Mì Banh Yiu\"', '\"Jack in the Box\"', '\"Wendy\\'s\"', '\"McDonald\\'s\"', '\"McDonald\\'s\"', '\"Wendy\\'s\"', '\"Wendy\\'s\"', '\"Carl\\'s Jr.\"', '\"Burger King\"', '\"The Golden Burrito\"', '\"Burger King\"', '\"Federicos\"', '\"Chipotle Mexican Grill\"', '\"Presto Sandwiches\"', '\"Popeyes\"', '\"Which Wich\"', '\"Jimmy John\\'s\"', '\"Slovenia Meat Product\"', '\"Uncle Sam\\'s Sandwich Bar\"', '\"Pacino Panino Sandwiches\"', '\"Mr Hero\"', '\"Jersey Mike\\'s Submarines & Salads\"', '\"Duck & Decanter\"', '\"The Steak\\' N Hoagie Shop\"', '\"Great Wraps\"']\n"
     ]
    }
   ],
   "source": [
    "#top 100 recommended locations similar to the inputed location\n",
    "#needs the indexing to be names (data = data.set_index('name'))\n",
    "data = data.set_index('name')\n",
    "count = CountVectorizer()\n",
    "count_matrix = count.fit_transform(data['categories'])\n",
    "cosine_sim = cosine_similarity(count_matrix, count_matrix)\n",
    "indices = pd.Series(data.index)\n",
    "recommended_places = []\n",
    "idx = indices[indices == '\"Subway\"'].index[0]\n",
    "score_series = pd.Series(cosine_sim[idx]).sort_values(ascending=False)\n",
    "top_100_indexes = list(score_series.iloc[1:100].index)\n",
    "for i in top_100_indexes:\n",
    "    recommended_places.append(list(data.index)[i])\n",
    "print(recommended_places)"
   ]
  },
  {
   "cell_type": "code",
   "execution_count": 9,
   "metadata": {},
   "outputs": [],
   "source": [
    "#creating the list of recommendations\n",
    "def final_list(list1,num1,list2,num2,list3,num3,list4,num4,list5,num5):\n",
    "    def creating_clone(list1):\n",
    "        z = 0\n",
    "        clone = [0] * len(list1)\n",
    "        for i in list1:\n",
    "            clone[z] = i\n",
    "            z += 1\n",
    "        return clone\n",
    "    \n",
    "    final_list = []\n",
    "    list_of_lists = [list1,list2,list3,list4,list5]\n",
    "    numbers_of_lists = [num1,num2,num3,num4,num5]\n",
    "    quarter_of_numbers_list = [round(i/4) for i in numbers_of_lists]\n",
    "    \n",
    "    j = 0\n",
    "    for i in quarter_of_numbers_list:\n",
    "        if i <= 4:\n",
    "            quarter_of_numbers_list[j] = i * 2\n",
    "        j += 1\n",
    "    \n",
    "    #getting the final list\n",
    "    list_of_locations = []\n",
    "    even_num_list = []\n",
    "    even_list_of_lists = []\n",
    "    j = 0\n",
    "    c = 0\n",
    "\n",
    "    for i in numbers_of_lists:\n",
    "        if i > 15:\n",
    "            list_of_locations.append(j)\n",
    "        j += 1\n",
    "\n",
    "\n",
    "    for i in list_of_locations:\n",
    "        num = quarter_of_numbers_list[i]\n",
    "        even_num_list.append(num)\n",
    "\n",
    "\n",
    "    for i in list_of_locations:\n",
    "        l = list_of_lists[i]\n",
    "        even_list_of_lists.append(l)\n",
    "\n",
    "    while c < 4:\n",
    "        clone_even_num_list = creating_clone(even_num_list)\n",
    "        clone_quarter_of_numbers_list = creating_clone(quarter_of_numbers_list)\n",
    "        if c % 2 == 0:\n",
    "            flag = True\n",
    "            while flag:\n",
    "                count = 0\n",
    "                flag_counter = 0\n",
    "                while count < len(clone_even_num_list):\n",
    "                    if clone_even_num_list[count] == 0:\n",
    "                        flag_counter += 1\n",
    "                        count += 1\n",
    "                    else:\n",
    "                        flag_counter = 0\n",
    "                        current_list = even_list_of_lists[count]\n",
    "                        final_list.append(current_list.pop(0))\n",
    "                        even_list_of_lists[count] = current_list\n",
    "                        clone_even_num_list[count] = clone_even_num_list[count] - 1\n",
    "                        count += 1\n",
    "                    if flag_counter >= len(clone_even_num_list):\n",
    "                        flag = False\n",
    "\n",
    "        else:\n",
    "            flag = True\n",
    "            while flag:\n",
    "                count = 0\n",
    "                flag_counter = 0\n",
    "                while count < len(clone_quarter_of_numbers_list):\n",
    "                    if clone_quarter_of_numbers_list[count] == 0:\n",
    "                        flag_counter += 1\n",
    "                        count += 1\n",
    "                    else:\n",
    "                        flag_counter = 0\n",
    "                        current_list = list_of_lists[count]\n",
    "                        final_list.append(current_list.pop(0))\n",
    "                        list_of_lists[count] = current_list\n",
    "                        clone_quarter_of_numbers_list[count] = clone_quarter_of_numbers_list[count] - 1\n",
    "                        count += 1\n",
    "                    if flag_counter >= len(clone_quarter_of_numbers_list):\n",
    "                        flag = False\n",
    "        c += 1\n",
    "\n",
    "    return final_list"
   ]
  },
  {
   "cell_type": "code",
   "execution_count": 12,
   "metadata": {},
   "outputs": [
    {
     "name": "stdout",
     "output_type": "stream",
     "text": [
      "[0, 100, 300, 1, 101, 301, 2, 102, 302, 3, 103, 303, 4, 104, 304, 5, 105, 305, 6, 106, 200, 306, 400, 7, 107, 201, 307, 401, 8, 108, 202, 308, 402, 9, 109, 203, 309, 403, 10, 110, 204, 310, 404, 11, 111, 205, 311, 405, 406, 407, 12, 112, 312, 13, 113, 313, 14, 114, 314, 15, 115, 315, 16, 116, 316, 17, 117, 317, 18, 118, 206, 318, 408, 19, 119, 207, 319, 409, 20, 120, 208, 320, 410, 21, 121, 209, 321, 411, 22, 122, 210, 322, 412, 23, 123, 211, 323, 413, 414, 415]\n"
     ]
    }
   ],
   "source": [
    "print(final_list([i for i in range(100)],25,[i for i in range(100,200)],25,[i for i in range(200,300)],12,[i for i in range(300,400)],23,[i for i in range(400,500)],15))"
   ]
  },
  {
   "cell_type": "code",
   "execution_count": null,
   "metadata": {},
   "outputs": [],
   "source": []
  }
 ],
 "metadata": {
  "kernelspec": {
   "display_name": "Python 3",
   "language": "python",
   "name": "python3"
  },
  "language_info": {
   "codemirror_mode": {
    "name": "ipython",
    "version": 3
   },
   "file_extension": ".py",
   "mimetype": "text/x-python",
   "name": "python",
   "nbconvert_exporter": "python",
   "pygments_lexer": "ipython3",
   "version": "3.7.0"
  }
 },
 "nbformat": 4,
 "nbformat_minor": 2
}
