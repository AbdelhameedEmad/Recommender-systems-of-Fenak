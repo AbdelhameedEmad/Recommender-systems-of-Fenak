{
 "cells": [
  {
   "cell_type": "code",
   "execution_count": 1,
   "metadata": {
    "scrolled": true
   },
   "outputs": [
    {
     "name": "stdout",
     "output_type": "stream",
     "text": [
      "\"Subway\"\n"
     ]
    }
   ],
   "source": [
    "import pandas as pd\n",
    "from rake_nltk import Rake\n",
    "import numpy as np\n",
    "from sklearn.metrics.pairwise import cosine_similarity\n",
    "from sklearn.feature_extraction.text import CountVectorizer\n",
    "\n",
    "#finding the first location that contains the inputed tag\n",
    "\n",
    "df = pd.read_csv(\"yelp_business.csv\")\n",
    "data = df[[\"business_id\", \"name\", \"city\", \"categories\"]]\n",
    "data = data.fillna(\"Giza\")\n",
    "data = data.sample(frac=0.025, replace=True)\n",
    "wanted_business = data.iloc[0]\n",
    "#3 in data.iloc[0,3] is the number of the column of categories\n",
    "r = data.iloc[0,3]\n",
    "if r.find('Restaurant') != -1:\n",
    "    wanted_business = data.iloc[0]\n",
    "    print (wanted_business['name'])\n",
    "else:\n",
    "    i = 1\n",
    "    while i < data.size:\n",
    "        r = data.iloc[i,3]\n",
    "        if r.find('Restaurant') != -1:\n",
    "            wanted_business = data.iloc[i]\n",
    "            print (wanted_business['name'])\n",
    "            break\n",
    "        if i == data.size - 1:\n",
    "            print ('N/a')\n",
    "        i += 1"
   ]
  },
  {
   "cell_type": "code",
   "execution_count": 2,
   "metadata": {},
   "outputs": [
    {
     "name": "stdout",
     "output_type": "stream",
     "text": [
      "['\"Subway\"', '\"Subway\"', '\"Subway\"', '\"Subway\"', '\"Subway\"', '\"Subway\"', '\"Subway\"', '\"Tammie Coe To Go\"', '\"Subway\"', '\"Subway\"', '\"Subway\"', '\"Subway\"', '\"Subway\"', '\"Jimmy John\\'s\"', '\"Arby\\'s\"', '\"Subway\"', '\"Subway\"', '\"Firehouse Subs\"', '\"Pita Pit\"', '\"Jersey Mike\\'s Subs\"', '\"Subway\"', '\"Pita Pit\"', '\"Jack in the Box\"', '\"Take It Away Spud\"', '\"Bojangles\\' Famous Chicken \\'n Biscuits\"', '\"Jack in the Box\"', '\"New York Chicken\"', '\"Jack In the Box\"', '\"Jack-In-the Box Drive Thru\"', '\"Chicken King\"', '\"Jack In the Box\"', '\"Bojangles\\' Famous Chicken \\'n Biscuits\"', '\"Frite Alors\"', '\"KFC\"', '\"Jack-In-the Box Drive Thru\"', '\"Le Roi D\\'ontario\"', '\"Ola Kala\"', '\"Hardee\\'s\"', '\"McDonald\\'s\"', '\"Firehouse Subs\"', '\"Greggs\"', '\"Fish & Fixin\\'s\"', '\"McDonald\\'s\"', '\"Don Tortaco\"', '\"Mei Dow\"', '\"McDonald\\'s\"', '\"McDonald\\'s\"', '\"Carl\\'s Jr.\"', '\"Chipotle Mexican Grill\"', '\"McDonald\\'s\"', '\"Taco Bell\"', '\"Wendy\\'s\"', '\"Little Tokyo\"', '\"Panda Express\"', '\"Blue Willo Cafe\"', '\"Wendy\\'s\"', '\"Burrito Boyz\"', '\"Chipotle Mexican Grill\"', '\"Five Guys\"', '\"In-N-Out Burger\"', '\"Mcdonald\\'s\"', '\"Jack in the Box\"', '\"Pomme Frite\"', '\"holdi\"', '\"McDonald\\'s\"', '\"Five Guys\"', '\"McDonald\\'s\"', '\"Panda Express\"', '\"Roberto\\'s Taco Shop\"', '\"Sonic Drive-In\"', '\"Pizza Bazaar\"', '\"Five Guys\"', '\"McDonald\\'s\"', '\"Wendy\\'s\"', '\"Bánh Mì Banh Yiu\"', '\"Jack in the Box\"', '\"Wendy\\'s\"', '\"McDonald\\'s\"', '\"McDonald\\'s\"', '\"Wendy\\'s\"', '\"Wendy\\'s\"', '\"Carl\\'s Jr.\"', '\"Burger King\"', '\"The Golden Burrito\"', '\"Burger King\"', '\"Federicos\"', '\"Chipotle Mexican Grill\"', '\"Presto Sandwiches\"', '\"Popeyes\"', '\"Which Wich\"', '\"Jimmy John\\'s\"', '\"Slovenia Meat Product\"', '\"Uncle Sam\\'s Sandwich Bar\"', '\"Pacino Panino Sandwiches\"', '\"Mr Hero\"', '\"Jersey Mike\\'s Submarines & Salads\"', '\"Duck & Decanter\"', '\"The Steak\\' N Hoagie Shop\"', '\"Great Wraps\"']\n"
     ]
    }
   ],
   "source": [
    "#top 100 recommended locations similar to the inputed location\n",
    "#needs the indexing to be names (data = data.set_index('name'))\n",
    "data = data.set_index('name')\n",
    "count = CountVectorizer()\n",
    "count_matrix = count.fit_transform(data['categories'])\n",
    "cosine_sim = cosine_similarity(count_matrix, count_matrix)\n",
    "indices = pd.Series(data.index)\n",
    "recommended_places = []\n",
    "idx = indices[indices == '\"Subway\"'].index[0]\n",
    "score_series = pd.Series(cosine_sim[idx]).sort_values(ascending=False)\n",
    "top_100_indexes = list(score_series.iloc[1:100].index)\n",
    "for i in top_100_indexes:\n",
    "    recommended_places.append(list(data.index)[i])\n",
    "print(recommended_places)"
   ]
  }
 ],
 "metadata": {
  "kernelspec": {
   "display_name": "Python 3",
   "language": "python",
   "name": "python3"
  },
  "language_info": {
   "codemirror_mode": {
    "name": "ipython",
    "version": 3
   },
   "file_extension": ".py",
   "mimetype": "text/x-python",
   "name": "python",
   "nbconvert_exporter": "python",
   "pygments_lexer": "ipython3",
   "version": "3.7.0"
  }
 },
 "nbformat": 4,
 "nbformat_minor": 2
}
